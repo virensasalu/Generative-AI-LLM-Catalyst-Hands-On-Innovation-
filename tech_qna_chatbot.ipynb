{
 "cells": [
  {
   "cell_type": "markdown",
   "id": "fe12c203-e6a6-452c-a655-afb8a03a4ff5",
   "metadata": {},
   "source": [
    "To demonstrate your familiarity with OpenAI API, and also Ollama, I build a tool that takes a technical question,  \n",
    "and responds with an explanation."
   ]
  },
  {
   "cell_type": "code",
   "execution_count": 25,
   "id": "c1070317-3ed9-4659-abe3-828943230e03",
   "metadata": {},
   "outputs": [],
   "source": [
    "# imports\n",
    "import os\n",
    "from dotenv import load_dotenv\n",
    "import gradio as gr\n",
    "from openai import OpenAI\n"
   ]
  },
  {
   "cell_type": "code",
   "execution_count": 26,
   "id": "47dd6055",
   "metadata": {},
   "outputs": [],
   "source": [
    "# constants\n",
    "\n",
    "MODEL_GPT = 'gpt-4o-mini'\n",
    "MODEL_LLAMA = 'llama3.2'"
   ]
  },
  {
   "cell_type": "code",
   "execution_count": 27,
   "id": "a8d7923c-5f28-4c30-8556-342d7c8497c1",
   "metadata": {},
   "outputs": [],
   "source": [
    "# set up environment\n",
    "load_dotenv(override=True)\n",
    "openai = OpenAI()\n",
    "api_key = os.getenv('OPENAI_API_KEY')"
   ]
  },
  {
   "cell_type": "code",
   "execution_count": 28,
   "id": "8595807b-8ae2-4e1b-95d9-e8532142e8bb",
   "metadata": {},
   "outputs": [],
   "source": [
    "# prompts\n",
    "\n",
    "system_prompt = \"You are a helpful technical tutor who answers questions about any coding language, software engineering, data science and LLMs\"\n",
    "system_prompt += \"If the the user is asking anything but the technical questions, you should politely decline to answer\"\n",
    "system_prompt += \"mention that you are trained only to answer only the technical questions\"\n"
   ]
  },
  {
   "cell_type": "code",
   "execution_count": 29,
   "id": "364f61c0",
   "metadata": {},
   "outputs": [],
   "source": [
    "# Get response from either OpenAI or Ollama\n",
    "def get_response(model_type, user_prompt):\n",
    "    user_prompt = \"Please give a detailed explanation to the following question: \" + user_prompt\n",
    "    messages = [\n",
    "    {\"role\": \"system\", \"content\": system_prompt},\n",
    "    {\"role\": \"user\", \"content\": user_prompt}\n",
    "    ]\n",
    "    \n",
    "    if model_type == \"OpenAI\":\n",
    "        openai.api_key = api_key\n",
    "        response = openai.chat.completions.create(\n",
    "            model=MODEL_GPT,  # You can change the model if needed\n",
    "            messages=messages\n",
    "        )\n",
    "        return response.choices[0].message.content\n",
    "    \n",
    "    elif model_type == \"Ollama\":\n",
    "        # Use Ollama via OpenAI API\n",
    "        ollama_via_openai = OpenAI(base_url='http://localhost:11434/v1', api_key='ollama')\n",
    "        response = ollama_via_openai.chat.completions.create(\n",
    "                    model=MODEL_LLAMA,\n",
    "                    messages=messages\n",
    "                )\n",
    "        return response.choices[0].message.content\n",
    "\n",
    "    \n",
    "    else:\n",
    "        return \"Invalid model selected.\""
   ]
  },
  {
   "cell_type": "code",
   "execution_count": 30,
   "id": "9a863181",
   "metadata": {},
   "outputs": [
    {
     "name": "stderr",
     "output_type": "stream",
     "text": [
      "/Users/virensasalu/miniconda3/envs/llms/lib/python3.11/site-packages/gradio/interface.py:403: UserWarning: The `allow_flagging` parameter in `Interface` is deprecated.Use `flagging_mode` instead.\n",
      "  warnings.warn(\n"
     ]
    },
    {
     "name": "stdout",
     "output_type": "stream",
     "text": [
      "* Running on local URL:  http://127.0.0.1:7881\n",
      "* Running on public URL: https://7713c1dc33a7ddb452.gradio.live\n",
      "\n",
      "This share link expires in 72 hours. For free permanent hosting and GPU upgrades, run `gradio deploy` from the terminal in the working directory to deploy to Hugging Face Spaces (https://huggingface.co/spaces)\n"
     ]
    },
    {
     "data": {
      "text/html": [
       "<div><iframe src=\"https://7713c1dc33a7ddb452.gradio.live\" width=\"100%\" height=\"500\" allow=\"autoplay; camera; microphone; clipboard-read; clipboard-write;\" frameborder=\"0\" allowfullscreen></iframe></div>"
      ],
      "text/plain": [
       "<IPython.core.display.HTML object>"
      ]
     },
     "metadata": {},
     "output_type": "display_data"
    },
    {
     "data": {
      "text/plain": []
     },
     "execution_count": 30,
     "metadata": {},
     "output_type": "execute_result"
    }
   ],
   "source": [
    "# Function to chat with the model\n",
    "def chat_with_model(model, prompt):\n",
    "    return get_response(model, prompt)\n",
    "\n",
    "# Gradio interface\n",
    "gr.Interface(\n",
    "    fn=chat_with_model,\n",
    "    inputs=[\n",
    "        gr.Dropdown(choices=[\"OpenAI\", \"Ollama\"], label=\"Choose Model\"),\n",
    "        gr.Textbox(lines=4, placeholder=\"Enter your prompt here...\", label=\"Prompt\")\n",
    "    ],\n",
    "    outputs=gr.Markdown(label=\"Response\"),\n",
    "    title=\"EXPLAIN IT!\",\n",
    "    description=\"Ask any technical question and get it explained by AI model.\",\n",
    "    \n",
    "    allow_flagging=\"never\"\n",
    ").launch(share=True)"
   ]
  }
 ],
 "metadata": {
  "kernelspec": {
   "display_name": "llms",
   "language": "python",
   "name": "python3"
  },
  "language_info": {
   "codemirror_mode": {
    "name": "ipython",
    "version": 3
   },
   "file_extension": ".py",
   "mimetype": "text/x-python",
   "name": "python",
   "nbconvert_exporter": "python",
   "pygments_lexer": "ipython3",
   "version": "3.11.11"
  }
 },
 "nbformat": 4,
 "nbformat_minor": 5
}
